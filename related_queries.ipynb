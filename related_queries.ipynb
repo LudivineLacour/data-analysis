{
 "cells": [
  {
   "cell_type": "markdown",
   "metadata": {},
   "source": [
    "## Google Trends related queries \n",
    "Objective: get the related queries for all date where the peak of interest around coronavirus were reached (for every country). \n",
    "\n",
    "Peak of interest is reached when it tends to 100."
   ]
  },
  {
   "cell_type": "code",
   "execution_count": null,
   "metadata": {},
   "outputs": [],
   "source": [
    "import pandas as pd\n",
    "from pytrends.request import TrendReq"
   ]
  },
  {
   "cell_type": "code",
   "execution_count": null,
   "metadata": {},
   "outputs": [],
   "source": [
    "interest=pd.read_csv('data/interest_over_time.csv')\n",
    "interest.sample(10)"
   ]
  },
  {
   "cell_type": "code",
   "execution_count": null,
   "metadata": {},
   "outputs": [],
   "source": [
    "set(interest.Country.values)"
   ]
  },
  {
   "cell_type": "code",
   "execution_count": null,
   "metadata": {},
   "outputs": [],
   "source": [
    "peak_filtered=interest[interest.coronavirus==100]\n",
    "peak_filtered"
   ]
  },
  {
   "cell_type": "code",
   "execution_count": null,
   "metadata": {},
   "outputs": [],
   "source": [
    "pytrends = TrendReq()"
   ]
  },
  {
   "cell_type": "code",
   "execution_count": null,
   "metadata": {},
   "outputs": [],
   "source": [
    "pytrends.build_payload(['coronavirus'], cat=0, timeframe='2020-03-22 2020-03-22', geo='AU', gprop='')\n",
    "related_queries=pytrends.related_queries()\n",
    "rising_queries=related_queries['coronavirus']['rising']"
   ]
  },
  {
   "cell_type": "code",
   "execution_count": null,
   "metadata": {},
   "outputs": [],
   "source": [
    "rising_queries"
   ]
  },
  {
   "cell_type": "code",
   "execution_count": null,
   "metadata": {},
   "outputs": [],
   "source": [
    "rising_dict=rising_queries['query'].head(5).to_dict()\n",
    "rising_dict"
   ]
  },
  {
   "cell_type": "code",
   "execution_count": null,
   "metadata": {},
   "outputs": [],
   "source": [
    "def get_related_queries(df):\n",
    "    #print(\"date\",date)\n",
    "    #print(\"country:\",country)\n",
    "    country_geo={'Australia':'AU','Canada':'CA','Ireland':'IE','South_Africa':'ZA',\n",
    "                 'United_Kingdom':'UK','United_States_of_America':'US'}\n",
    "    \n",
    "    pytrends.build_payload(['coronavirus'], cat=0, timeframe=f'{df.date} {df.date}', geo=country_geo[df.Country], gprop='')\n",
    "    \n",
    "    # Using the related query method of pytrends based on payload information\n",
    "    related_queries=pytrends.related_queries()\n",
    "    rising_queries=related_queries['coronavirus']['rising']\n",
    "    \n",
    "    # transform the top 5 query into a dictionnary to be put into a new cell\n",
    "    rising_dict=rising_queries['query'].head(5).to_dict()\n",
    "    \n",
    "    return rising_dict\n",
    "\n",
    "# Testing the function\n",
    "#get_related_queries(peak_filtered.iloc[5].date,peak_filtered.iloc[5].Country)\n"
   ]
  },
  {
   "cell_type": "code",
   "execution_count": null,
   "metadata": {},
   "outputs": [],
   "source": [
    "peak_filtered.apply(lambda x: get_related_queries(x),axis=1)"
   ]
  },
  {
   "cell_type": "code",
   "execution_count": null,
   "metadata": {},
   "outputs": [],
   "source": [
    "#peak_filtered['related_queries']=peak_filtered.apply(get_related_queries)"
   ]
  },
  {
   "cell_type": "code",
   "execution_count": null,
   "metadata": {},
   "outputs": [],
   "source": []
  }
 ],
 "metadata": {
  "kernelspec": {
   "display_name": "Python 3",
   "language": "python",
   "name": "python3"
  },
  "language_info": {
   "codemirror_mode": {
    "name": "ipython",
    "version": 3
   },
   "file_extension": ".py",
   "mimetype": "text/x-python",
   "name": "python",
   "nbconvert_exporter": "python",
   "pygments_lexer": "ipython3",
   "version": "3.7.4"
  }
 },
 "nbformat": 4,
 "nbformat_minor": 2
}
