{
 "cells": [
  {
   "cell_type": "markdown",
   "metadata": {},
   "source": [
    "## Google Trends related queries \n",
    "Objective: get the related queries for all date where the peak of interest around coronavirus were reached (for every country). \n",
    "\n",
    "Peak of interest is reached when it tends to 100."
   ]
  },
  {
   "cell_type": "code",
   "execution_count": null,
   "metadata": {},
   "outputs": [],
   "source": [
    "import pandas as pd\n",
    "from pytrends.request import TrendReq"
   ]
  },
  {
   "cell_type": "code",
   "execution_count": null,
   "metadata": {},
   "outputs": [],
   "source": [
    "interest=pd.read_csv('data/interest_over_time.csv')\n",
    "interest.sample(10)"
   ]
  },
  {
   "cell_type": "code",
   "execution_count": null,
   "metadata": {},
   "outputs": [],
   "source": [
    "# Filter dataframe to get only the row which reached a peak of interest >= 90\n",
    "\n",
    "\"\"\"\n",
    "90 seems to be a good point for getting enough relevant date where peak was reached and,\n",
    "be discriminant enough to not getting dates day after day.\n",
    "\n",
    "\"\"\"\n",
    "\n",
    "peak_filtered=interest[interest.coronavirus>=90]\n",
    "peak_filtered"
   ]
  },
  {
   "cell_type": "code",
   "execution_count": null,
   "metadata": {},
   "outputs": [],
   "source": [
    "# Get the credentials for Google Trends (Google account)\n",
    "\n",
    "pytrends = TrendReq()"
   ]
  },
  {
   "cell_type": "code",
   "execution_count": null,
   "metadata": {},
   "outputs": [],
   "source": [
    "# Test for one specific request with date and location\n",
    "\n",
    "pytrends.build_payload(['coronavirus'], cat=0, timeframe='2020-03-22 2020-03-22', geo='AU', gprop='')\n",
    "related_queries=pytrends.related_queries()\n",
    "rising_queries=related_queries['coronavirus']['rising']"
   ]
  },
  {
   "cell_type": "code",
   "execution_count": null,
   "metadata": {},
   "outputs": [],
   "source": [
    "rising_queries"
   ]
  },
  {
   "cell_type": "code",
   "execution_count": null,
   "metadata": {},
   "outputs": [],
   "source": [
    "# Figure out how to transform results into dictionary\n",
    "\n",
    "rising_dict=rising_queries['query'].head(5).to_dict()\n",
    "rising_dict"
   ]
  },
  {
   "cell_type": "code",
   "execution_count": null,
   "metadata": {},
   "outputs": [],
   "source": [
    "# create function to call related_queries method for the entire filtered dataframe\n",
    "\n",
    "def get_related_queries(date,country):\n",
    "    print(date,country)\n",
    "    country_geo={'Australia':'AU','Canada':'CA','Ireland':'IE','South_Africa':'ZA',\n",
    "                 'United_Kingdom':'GB','United_States_of_America':'US'}\n",
    "    \n",
    "    try:\n",
    "        pytrends.build_payload(['coronavirus'], cat=0, timeframe=f'{date} {date}', geo=country_geo[country], gprop='')\n",
    "    \n",
    "    # Using the related query method of pytrends based on payload information\n",
    "        related_queries=pytrends.related_queries()\n",
    "    except:\n",
    "        print(\"failed for:\",date,country)\n",
    "        \n",
    "    rising_queries=related_queries['coronavirus']['rising']\n",
    "    \n",
    "    # transform the top 5 query into a dictionnary to be put into a new cell\n",
    "    rising_dict=rising_queries['query'].head(5).to_dict()\n",
    "    \n",
    "    return rising_dict\n",
    "\n",
    "# Testing the function\n",
    "get_related_queries(peak_filtered.iloc[4].date,peak_filtered.iloc[4].Country)\n"
   ]
  },
  {
   "cell_type": "code",
   "execution_count": null,
   "metadata": {},
   "outputs": [],
   "source": [
    "# Apply the function to filtered dataframe and save results in a new column\n",
    "\n",
    "peak_filtered['related_queries']=peak_filtered.apply(lambda x: get_related_queries(x.date,x.Country),axis=1)"
   ]
  },
  {
   "cell_type": "code",
   "execution_count": null,
   "metadata": {},
   "outputs": [],
   "source": [
    "# Save the data into a csv\n",
    "\n",
    "peak_filtered.to_csv('data/related_queries.csv',sep=',')"
   ]
  },
  {
   "cell_type": "code",
   "execution_count": null,
   "metadata": {},
   "outputs": [],
   "source": []
  }
 ],
 "metadata": {
  "kernelspec": {
   "display_name": "Python 3",
   "language": "python",
   "name": "python3"
  },
  "language_info": {
   "codemirror_mode": {
    "name": "ipython",
    "version": 3
   },
   "file_extension": ".py",
   "mimetype": "text/x-python",
   "name": "python",
   "nbconvert_exporter": "python",
   "pygments_lexer": "ipython3",
   "version": "3.7.4"
  }
 },
 "nbformat": 4,
 "nbformat_minor": 2
}
