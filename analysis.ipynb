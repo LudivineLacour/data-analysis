{
 "cells": [
  {
   "cell_type": "code",
   "execution_count": null,
   "metadata": {},
   "outputs": [],
   "source": [
    "import pandas as pd\n",
    "import numpy as np\n",
    "import matplotlib.pyplot as plt"
   ]
  },
  {
   "cell_type": "code",
   "execution_count": null,
   "metadata": {},
   "outputs": [],
   "source": [
    "df = pd.read_csv('data/final_dataframe.csv')\n",
    "df.head()"
   ]
  },
  {
   "cell_type": "code",
   "execution_count": null,
   "metadata": {},
   "outputs": [],
   "source": [
    "countries = df['country'].unique()\n",
    "countries"
   ]
  },
  {
   "cell_type": "code",
   "execution_count": null,
   "metadata": {},
   "outputs": [],
   "source": [
    "Australia_search = df[df['country']==countries[0]]['coronavirus']\n",
    "Canada_search = df[df['country']==countries[1]]['coronavirus']\n",
    "x = df['date'].unique()\n",
    "\n",
    "\n",
    "plt.figure(1,figsize=(17,6))\n",
    "plt.plot(x, Australia_search)\n",
    "plt.plot(x, Canada_search);"
   ]
  },
  {
   "cell_type": "code",
   "execution_count": null,
   "metadata": {},
   "outputs": [],
   "source": [
    "Australia = df[df['country']==countries[0]][::-1]\n",
    "Australia.head()"
   ]
  },
  {
   "cell_type": "code",
   "execution_count": null,
   "metadata": {},
   "outputs": [],
   "source": [
    "x = Australia.date\n",
    "Australia_cases = Australia.cases\n",
    "Australia_death = Australia.deaths\n",
    "Australia_search = Australia.coronavirus\n",
    "\n",
    "fig,['0',ax1,ax2,ax3,ax4,ax5] = plt.subplots(1,6, figsize=(10,4))\n",
    "\n",
    "for i in range(len(countries)):\n",
    "\n",
    "    ax,i.plot(x,df[df['country']==countries[i]][::-1].cases,label='cases')\n",
    "    ax+i.plot(x,df[df['country']==countries[i]][::-1].deaths,label='deaths')\n",
    "    ax+i.plot(x,df[df['country']==countries[i]][::-1].coronavirus,label='searches')\n",
    "\n",
    "    ax+i.legend()\n",
    "    \n",
    "plt.show()"
   ]
  },
  {
   "cell_type": "code",
   "execution_count": null,
   "metadata": {},
   "outputs": [],
   "source": [
    "for i in range(len(countries)):\n",
    "    print(ax+i)"
   ]
  },
  {
   "cell_type": "code",
   "execution_count": null,
   "metadata": {},
   "outputs": [],
   "source": []
  }
 ],
 "metadata": {
  "kernelspec": {
   "display_name": "Python 3",
   "language": "python",
   "name": "python3"
  },
  "language_info": {
   "codemirror_mode": {
    "name": "ipython",
    "version": 3
   },
   "file_extension": ".py",
   "mimetype": "text/x-python",
   "name": "python",
   "nbconvert_exporter": "python",
   "pygments_lexer": "ipython3",
   "version": "3.7.4"
  }
 },
 "nbformat": 4,
 "nbformat_minor": 2
}
