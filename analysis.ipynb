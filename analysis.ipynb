{
 "cells": [
  {
   "cell_type": "code",
   "execution_count": null,
   "metadata": {},
   "outputs": [],
   "source": [
    "import pandas as pd\n",
    "import numpy as np\n",
    "import matplotlib.pyplot as plt\n",
    "import seaborn as sns"
   ]
  },
  {
   "cell_type": "code",
   "execution_count": null,
   "metadata": {},
   "outputs": [],
   "source": [
    "df = pd.read_csv('data/final_dataframe.csv')\n",
    "df.head()"
   ]
  },
  {
   "cell_type": "code",
   "execution_count": null,
   "metadata": {},
   "outputs": [],
   "source": [
    "# DEPRECATED Test for plotting all countries interest search \n",
    "\n",
    "countries = df['country'].unique()\n",
    "\n",
    "Australia_search = df[df['country']==countries[0]]['coronavirus']\n",
    "Canada_search = df[df['country']==countries[1]]['coronavirus']\n",
    "x = df['date'].unique()\n",
    "\n",
    "\n",
    "plt.figure(1,figsize=(17,6))\n",
    "plt.plot(x, Australia_search)\n",
    "plt.plot(x, Canada_search);"
   ]
  },
  {
   "cell_type": "code",
   "execution_count": null,
   "metadata": {},
   "outputs": [],
   "source": [
    "# Testing seaborn pairplot to check data for several countries at a time\n",
    "\n",
    "sns.pairplot(df[df['country'].isin(['United_States_of_America','Canada'])], vars = ['cumsum_case','cases','deaths','coronavirus'], hue='country',diag_kind = 'kde', plot_kws = {'alpha': 0.6, 's': 80, 'edgecolor': 'k'})\n"
   ]
  },
  {
   "cell_type": "code",
   "execution_count": null,
   "metadata": {},
   "outputs": [],
   "source": [
    "# Testing jointplot \n",
    "\n",
    "for i in range(len(countries)):\n",
    "    sns.jointplot(x=df[df['country']==countries[i]].cumsum_case, y=df[df['country']==countries[i]].coronavirus, kind='scatter', color='b',s=200, edgecolor=\"skyblue\", linewidth=2)\n",
    "    "
   ]
  },
  {
   "cell_type": "code",
   "execution_count": null,
   "metadata": {},
   "outputs": [],
   "source": [
    "# Creating regplot per country to see the correlation between coronavirus searches and cases\n",
    "\n",
    "g = sns.FacetGrid(df, col=\"country\", col_wrap=3, margin_titles=True, sharex=False)\n",
    "g.map(sns.regplot, \"cases\", \"coronavirus\", color='dodgerblue', fit_reg=False)\n",
    "\n",
    "plt.subplots_adjust(top=.88) # creating a space between suptitle and figure\n",
    "g.fig.suptitle('Correlation between nb of new cases per day and coronavirus searches')\n",
    "\n",
    "g.savefig('img/correlation-cases-searches.png')"
   ]
  },
  {
   "cell_type": "code",
   "execution_count": null,
   "metadata": {},
   "outputs": [],
   "source": [
    "# Creating regplot per country to see the correlation between coronavirus searches and deaths\n",
    "\n",
    "g = sns.FacetGrid(df, col=\"country\", col_wrap=3, margin_titles=True, sharex=False)\n",
    "g.map(sns.regplot, \"deaths\", \"coronavirus\", color='coral', fit_reg=False)\n",
    "\n",
    "plt.subplots_adjust(top=0.88) # creating a space between suptitle and figure\n",
    "g.fig.suptitle('Correlation between nb of death per day and coronavirus searches')\n",
    "\n",
    "g.savefig('img/correlation-deaths-searches.png') "
   ]
  },
  {
   "cell_type": "code",
   "execution_count": null,
   "metadata": {},
   "outputs": [],
   "source": []
  }
 ],
 "metadata": {
  "kernelspec": {
   "display_name": "Python 3",
   "language": "python",
   "name": "python3"
  },
  "language_info": {
   "codemirror_mode": {
    "name": "ipython",
    "version": 3
   },
   "file_extension": ".py",
   "mimetype": "text/x-python",
   "name": "python",
   "nbconvert_exporter": "python",
   "pygments_lexer": "ipython3",
   "version": "3.7.4"
  }
 },
 "nbformat": 4,
 "nbformat_minor": 2
}
