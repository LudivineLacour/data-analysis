{
 "cells": [
  {
   "cell_type": "code",
   "execution_count": null,
   "metadata": {},
   "outputs": [],
   "source": [
    "import pandas as pd\n",
    "import numpy as np\n",
    "import matplotlib.pyplot as plt\n",
    "import scipy.stats as stats"
   ]
  },
  {
   "cell_type": "code",
   "execution_count": null,
   "metadata": {},
   "outputs": [],
   "source": [
    "# Read the csv of ecdc\n",
    "\n",
    "df = pd.read_csv('data/ecdc_covid19_20200426.csv', parse_dates=['dateRep'], dayfirst=True)\n",
    "df.tail()"
   ]
  },
  {
   "cell_type": "code",
   "execution_count": null,
   "metadata": {},
   "outputs": [],
   "source": [
    "# Filter data to keep only China and France\n",
    "\n",
    "flt_df = df.loc[df.countriesAndTerritories.isin(['China','France'])].reset_index()\n",
    "flt_df.head()"
   ]
  },
  {
   "cell_type": "code",
   "execution_count": null,
   "metadata": {},
   "outputs": [],
   "source": [
    "# DEPRECATED Calculate cumsum of cases and deaths\n",
    "\n",
    "flt_df['cases_cum'] = flt_df.sort_values('dateRep').groupby(['countriesAndTerritories'])['cases'].transform(lambda g: g.cumsum())\n",
    "flt_df['deaths_cum'] = flt_df.sort_values('dateRep').groupby(['countriesAndTerritories'])['deaths'].transform(lambda g: g.cumsum())\n",
    "flt_df.tail(20)\n"
   ]
  },
  {
   "cell_type": "code",
   "execution_count": null,
   "metadata": {},
   "outputs": [],
   "source": [
    "# DEPRECATED Calculate death_rate on cumsum\n",
    "\n",
    "flt_df['death_rate']=flt_df['deaths_cum']/flt_df['cases_cum']"
   ]
  },
  {
   "cell_type": "code",
   "execution_count": null,
   "metadata": {},
   "outputs": [],
   "source": [
    "# DEPRECATED Calculate the growth of death_rate\n",
    "\n",
    "flt_df['death_growth_rate']=flt_df.sort_values('dateRep').groupby(['countriesAndTerritories'])['deaths_cum'].transform(lambda g: g.pct_change())\n",
    "flt_df.head()\n"
   ]
  },
  {
   "cell_type": "code",
   "execution_count": null,
   "metadata": {},
   "outputs": [],
   "source": [
    "# Normalize data of cases to get cases per million \n",
    "\n",
    "fr_norm = flt_df.loc[flt_df.countriesAndTerritories=='France']['popData2018'][118]/10**6\n",
    "ch_norm = flt_df.loc[flt_df.countriesAndTerritories=='China']['popData2018'][113]/10**6\n",
    "\n",
    "flt_df['norm_cases'] = flt_df.apply(lambda x: x['cases']/fr_norm if x.countriesAndTerritories=='France' else x['cases']/ch_norm, axis=1)\n",
    "flt_df.head()"
   ]
  },
  {
   "cell_type": "code",
   "execution_count": null,
   "metadata": {},
   "outputs": [],
   "source": [
    "# Calculate the cumulative sum of norm_cases\n",
    "\n",
    "flt_df['norm_cases_cum'] = flt_df.sort_values('dateRep').groupby(['countriesAndTerritories'])['norm_cases'].transform(lambda g: g.cumsum())\n",
    "flt_df.head()\n",
    "\n"
   ]
  },
  {
   "cell_type": "code",
   "execution_count": null,
   "metadata": {},
   "outputs": [],
   "source": [
    "# Calculate growth rate for norm_cases_cum\n",
    "\n",
    "flt_df['norm_cases_growth']=flt_df.sort_values('dateRep').groupby(['countriesAndTerritories'])['norm_cases_cum'].transform(lambda g: g.pct_change())\n",
    "\n"
   ]
  },
  {
   "cell_type": "code",
   "execution_count": null,
   "metadata": {},
   "outputs": [],
   "source": [
    "# Checking the growth of norm_cases for the last 5 days in France \n",
    "# and compare it to China growth of norm_cases day by day to get the date of China with the similar growth\n",
    "\n",
    "fr_rate = flt_df[(flt_df.countriesAndTerritories=='France')].sort_values('dateRep',ascending=False)['norm_cases_growth'][:5]\n",
    "ch_df = flt_df[(flt_df.countriesAndTerritories=='China')].sort_values('dateRep',ascending=False)\n",
    "\n",
    "match_dates=[]\n",
    "\n",
    "for i in range(flt_df[(flt_df.countriesAndTerritories=='China')].shape[0]):\n",
    "    ch_rate = ch_df['norm_cases_growth'][i]\n",
    "    pvalue = stats.ttest_1samp(fr_rate,ch_rate)[1]\n",
    "    \n",
    "    if pvalue > 0.05:\n",
    "        match_dates.append(ch_df['dateRep'][i])\n",
    "        \n",
    "print(match_dates)\n"
   ]
  },
  {
   "cell_type": "code",
   "execution_count": null,
   "metadata": {},
   "outputs": [],
   "source": [
    "# Plotting growth of norm_cases by day to \n",
    "\n",
    "from pandas.plotting import register_matplotlib_converters\n",
    "from matplotlib.dates import DateFormatter\n",
    "import matplotlib.dates as mdates\n",
    "\n",
    "date_form = DateFormatter(\"%d-%m-%y\") #too much values on the x axis for dates, so we format it with DateFormatter\n",
    "\n",
    "ch = flt_df[flt_df.countriesAndTerritories=='China']['norm_cases_growth']\n",
    "x_ch = flt_df[flt_df.countriesAndTerritories=='China']['dateRep']\n",
    "fr = flt_df[flt_df.countriesAndTerritories=='France']['norm_cases_growth']\n",
    "x_fr = flt_df[flt_df.countriesAndTerritories=='France']['dateRep']\n",
    "\n",
    "fig, [ax1,ax2] = plt.subplots(1,2,figsize=(17,6))\n",
    "\n",
    "ax1.plot(x_fr,fr)\n",
    "ax1.xaxis.set_major_formatter(date_form)\n",
    "ax1.xaxis.set_major_locator(mdates.WeekdayLocator(interval=2))\n",
    "ax1.set_title('France')\n",
    "\n",
    "ax2.plot(x_ch,ch, color='orange')\n",
    "ax2.vlines(match_dates[0], ymin=0.00, ymax=1.75, colors='r', linestyles='dashed', label='date of current growth in France')\n",
    "ax2.xaxis.set_major_formatter(date_form)\n",
    "ax2.xaxis.set_major_locator(mdates.WeekdayLocator(interval=3))\n",
    "ax2.set_title('China')\n",
    "\n",
    "fig.suptitle('Growth rate of cumulate cases per million',fontsize=16)\n",
    "plt.legend()\n",
    "plt.show()\n"
   ]
  },
  {
   "cell_type": "code",
   "execution_count": null,
   "metadata": {},
   "outputs": [],
   "source": [
    "fig.savefig('img/hypothesis-testing.png')"
   ]
  },
  {
   "cell_type": "code",
   "execution_count": null,
   "metadata": {},
   "outputs": [],
   "source": []
  }
 ],
 "metadata": {
  "kernelspec": {
   "display_name": "Python 3",
   "language": "python",
   "name": "python3"
  },
  "language_info": {
   "codemirror_mode": {
    "name": "ipython",
    "version": 3
   },
   "file_extension": ".py",
   "mimetype": "text/x-python",
   "name": "python",
   "nbconvert_exporter": "python",
   "pygments_lexer": "ipython3",
   "version": "3.7.4"
  }
 },
 "nbformat": 4,
 "nbformat_minor": 2
}
