{
 "cells": [
  {
   "cell_type": "code",
   "execution_count": null,
   "metadata": {},
   "outputs": [],
   "source": [
    "import pandas as pd\n",
    "import numpy as np"
   ]
  },
  {
   "cell_type": "code",
   "execution_count": null,
   "metadata": {},
   "outputs": [],
   "source": [
    "ecdc = pd.read_csv('data/ecdc_covid19_20200418.csv', parse_dates=['dateRep'], dayfirst=True)\n",
    "interest = pd.read_csv('data/interest_over_time.csv', parse_dates=['date'])\n",
    "trends_title =  pd.read_csv('data/gtrends_dict_trend.csv', parse_dates=['date'])\n",
    "trends_traffic =  pd.read_csv('data/gtrends_dict_traffic.csv', parse_dates=['date'])\n",
    "related_queries = pd.read_csv('data/related_queries.csv', parse_dates=['date'])"
   ]
  },
  {
   "cell_type": "code",
   "execution_count": null,
   "metadata": {},
   "outputs": [],
   "source": [
    "ecdc.head()"
   ]
  },
  {
   "cell_type": "code",
   "execution_count": null,
   "metadata": {},
   "outputs": [],
   "source": [
    "interest.head()"
   ]
  },
  {
   "cell_type": "code",
   "execution_count": null,
   "metadata": {},
   "outputs": [],
   "source": [
    "trends_traffic.head()"
   ]
  },
  {
   "cell_type": "code",
   "execution_count": null,
   "metadata": {},
   "outputs": [],
   "source": [
    "trends_title.head()"
   ]
  },
  {
   "cell_type": "code",
   "execution_count": null,
   "metadata": {},
   "outputs": [],
   "source": [
    "related_queries.head()"
   ]
  },
  {
   "cell_type": "code",
   "execution_count": null,
   "metadata": {},
   "outputs": [],
   "source": [
    "# filtering the ecdc dataframe with the restricted countries for our project\n",
    "\n",
    "countries = interest.Country.unique()\n",
    "\n",
    "final_df = ecdc.loc[ecdc['countriesAndTerritories'].isin(countries)]\n",
    "\n",
    "print(\"final_df shape:\",final_df.shape)\n",
    "final_df.head()"
   ]
  },
  {
   "cell_type": "code",
   "execution_count": null,
   "metadata": {},
   "outputs": [],
   "source": [
    "# cleaning final_df columns\n",
    "\n",
    "final_df.rename(columns={'dateRep':'date','countriesAndTerritories':'country','geoId':'country_code'},inplace=True)\n"
   ]
  },
  {
   "cell_type": "code",
   "execution_count": null,
   "metadata": {},
   "outputs": [],
   "source": [
    "# cleaning the interest dataframe to make it matched with final when merging \n",
    "\n",
    "interest.rename(columns={'Country':'country'},inplace=True)"
   ]
  },
  {
   "cell_type": "code",
   "execution_count": null,
   "metadata": {},
   "outputs": [],
   "source": [
    "# cleaning the related_queries dataframe for merging\n",
    "\n",
    "related_queries.drop(columns='Unnamed: 0',inplace=True)\n",
    "related_queries.rename(columns={'Country':'country'},inplace=True)"
   ]
  },
  {
   "cell_type": "code",
   "execution_count": null,
   "metadata": {},
   "outputs": [],
   "source": [
    "# cleaning of dataframes for merging\n",
    "\n",
    "trends_traffic.drop(columns='Unnamed: 0',inplace=True)\n",
    "trends_title.drop(columns='Unnamed: 0',inplace=True)\n",
    "\n",
    "trends_traffic.rename(columns={'0':'trends_traffic'},inplace=True)\n",
    "trends_title.rename(columns={'0':'trends_title'},inplace=True)\n",
    "\n",
    "trends_title.head()"
   ]
  },
  {
   "cell_type": "code",
   "execution_count": null,
   "metadata": {},
   "outputs": [],
   "source": [
    "# Merging interest dataframe\n",
    "\n",
    "result = pd.merge(final_df, interest, how='left', on=['date','country'])\n",
    "result.head()"
   ]
  },
  {
   "cell_type": "code",
   "execution_count": null,
   "metadata": {},
   "outputs": [],
   "source": [
    "# Merging related_queries dataframe\n",
    "\n",
    "result_2 = pd.merge(result, related_queries, how='left', on=['date','country','coronavirus'])\n",
    "result_2.head()"
   ]
  },
  {
   "cell_type": "code",
   "execution_count": null,
   "metadata": {},
   "outputs": [],
   "source": [
    "# Merging trends_title dataframe\n",
    "\n",
    "result_3 = pd.merge(result_2, trends_title, how='left', on=['date','country_code'])\n",
    "result_3.head()"
   ]
  },
  {
   "cell_type": "code",
   "execution_count": null,
   "metadata": {},
   "outputs": [],
   "source": [
    "# Merging trends_traffic dataframe\n",
    "\n",
    "result_4 = pd.merge(result_3, trends_traffic, how='left', on=['date','country_code'])\n",
    "result_4.head()"
   ]
  },
  {
   "cell_type": "code",
   "execution_count": null,
   "metadata": {},
   "outputs": [],
   "source": [
    "# saving the final result as csv \n",
    "\n",
    "result_4.to_csv('data/final_dataframe.csv')"
   ]
  },
  {
   "cell_type": "code",
   "execution_count": null,
   "metadata": {},
   "outputs": [],
   "source": []
  }
 ],
 "metadata": {
  "kernelspec": {
   "display_name": "Python 3",
   "language": "python",
   "name": "python3"
  },
  "language_info": {
   "codemirror_mode": {
    "name": "ipython",
    "version": 3
   },
   "file_extension": ".py",
   "mimetype": "text/x-python",
   "name": "python",
   "nbconvert_exporter": "python",
   "pygments_lexer": "ipython3",
   "version": "3.7.4"
  }
 },
 "nbformat": 4,
 "nbformat_minor": 2
}
