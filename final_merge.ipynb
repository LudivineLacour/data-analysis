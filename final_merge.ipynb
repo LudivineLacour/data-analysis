{
 "cells": [
  {
   "cell_type": "code",
   "execution_count": 1,
   "metadata": {},
   "outputs": [],
   "source": [
    "import pandas as pd\n",
    "import numpy as np"
   ]
  },
  {
   "cell_type": "code",
   "execution_count": 2,
   "metadata": {},
   "outputs": [],
   "source": [
    "ecdc = pd.read_csv('data/ecdc_covid19_20200418.csv', parse_dates=['dateRep'], dayfirst=True)\n",
    "interest = pd.read_csv('data/interest_over_time.csv', parse_dates=['date'])\n",
    "trends_title =  pd.read_csv('data/gtrends_dict_trend.csv', index_col=0, parse_dates=['date'])\n",
    "trends_traffic =  pd.read_csv('data/gtrends_dict_traffic.csv', index_col=0, parse_dates=['date'])\n",
    "related_queries = pd.read_csv('data/related_queries.csv', index_col=0, parse_dates=['date'])"
   ]
  },
  {
   "cell_type": "code",
   "execution_count": 3,
   "metadata": {},
   "outputs": [
    {
     "data": {
      "text/html": [
       "<div>\n",
       "<style scoped>\n",
       "    .dataframe tbody tr th:only-of-type {\n",
       "        vertical-align: middle;\n",
       "    }\n",
       "\n",
       "    .dataframe tbody tr th {\n",
       "        vertical-align: top;\n",
       "    }\n",
       "\n",
       "    .dataframe thead th {\n",
       "        text-align: right;\n",
       "    }\n",
       "</style>\n",
       "<table border=\"1\" class=\"dataframe\">\n",
       "  <thead>\n",
       "    <tr style=\"text-align: right;\">\n",
       "      <th></th>\n",
       "      <th>dateRep</th>\n",
       "      <th>day</th>\n",
       "      <th>month</th>\n",
       "      <th>year</th>\n",
       "      <th>cases</th>\n",
       "      <th>deaths</th>\n",
       "      <th>countriesAndTerritories</th>\n",
       "      <th>geoId</th>\n",
       "      <th>countryterritoryCode</th>\n",
       "      <th>popData2018</th>\n",
       "    </tr>\n",
       "  </thead>\n",
       "  <tbody>\n",
       "    <tr>\n",
       "      <th>0</th>\n",
       "      <td>2020-04-18</td>\n",
       "      <td>18</td>\n",
       "      <td>4</td>\n",
       "      <td>2020</td>\n",
       "      <td>51</td>\n",
       "      <td>1</td>\n",
       "      <td>Afghanistan</td>\n",
       "      <td>AF</td>\n",
       "      <td>AFG</td>\n",
       "      <td>37172386.0</td>\n",
       "    </tr>\n",
       "    <tr>\n",
       "      <th>1</th>\n",
       "      <td>2020-04-17</td>\n",
       "      <td>17</td>\n",
       "      <td>4</td>\n",
       "      <td>2020</td>\n",
       "      <td>10</td>\n",
       "      <td>4</td>\n",
       "      <td>Afghanistan</td>\n",
       "      <td>AF</td>\n",
       "      <td>AFG</td>\n",
       "      <td>37172386.0</td>\n",
       "    </tr>\n",
       "    <tr>\n",
       "      <th>2</th>\n",
       "      <td>2020-04-16</td>\n",
       "      <td>16</td>\n",
       "      <td>4</td>\n",
       "      <td>2020</td>\n",
       "      <td>70</td>\n",
       "      <td>2</td>\n",
       "      <td>Afghanistan</td>\n",
       "      <td>AF</td>\n",
       "      <td>AFG</td>\n",
       "      <td>37172386.0</td>\n",
       "    </tr>\n",
       "    <tr>\n",
       "      <th>3</th>\n",
       "      <td>2020-04-15</td>\n",
       "      <td>15</td>\n",
       "      <td>4</td>\n",
       "      <td>2020</td>\n",
       "      <td>49</td>\n",
       "      <td>2</td>\n",
       "      <td>Afghanistan</td>\n",
       "      <td>AF</td>\n",
       "      <td>AFG</td>\n",
       "      <td>37172386.0</td>\n",
       "    </tr>\n",
       "    <tr>\n",
       "      <th>4</th>\n",
       "      <td>2020-04-14</td>\n",
       "      <td>14</td>\n",
       "      <td>4</td>\n",
       "      <td>2020</td>\n",
       "      <td>58</td>\n",
       "      <td>3</td>\n",
       "      <td>Afghanistan</td>\n",
       "      <td>AF</td>\n",
       "      <td>AFG</td>\n",
       "      <td>37172386.0</td>\n",
       "    </tr>\n",
       "  </tbody>\n",
       "</table>\n",
       "</div>"
      ],
      "text/plain": [
       "     dateRep  day  month  year  cases  deaths countriesAndTerritories geoId  \\\n",
       "0 2020-04-18   18      4  2020     51       1             Afghanistan    AF   \n",
       "1 2020-04-17   17      4  2020     10       4             Afghanistan    AF   \n",
       "2 2020-04-16   16      4  2020     70       2             Afghanistan    AF   \n",
       "3 2020-04-15   15      4  2020     49       2             Afghanistan    AF   \n",
       "4 2020-04-14   14      4  2020     58       3             Afghanistan    AF   \n",
       "\n",
       "  countryterritoryCode  popData2018  \n",
       "0                  AFG   37172386.0  \n",
       "1                  AFG   37172386.0  \n",
       "2                  AFG   37172386.0  \n",
       "3                  AFG   37172386.0  \n",
       "4                  AFG   37172386.0  "
      ]
     },
     "execution_count": 3,
     "metadata": {},
     "output_type": "execute_result"
    }
   ],
   "source": [
    "ecdc.head()"
   ]
  },
  {
   "cell_type": "code",
   "execution_count": 4,
   "metadata": {},
   "outputs": [
    {
     "data": {
      "text/html": [
       "<div>\n",
       "<style scoped>\n",
       "    .dataframe tbody tr th:only-of-type {\n",
       "        vertical-align: middle;\n",
       "    }\n",
       "\n",
       "    .dataframe tbody tr th {\n",
       "        vertical-align: top;\n",
       "    }\n",
       "\n",
       "    .dataframe thead th {\n",
       "        text-align: right;\n",
       "    }\n",
       "</style>\n",
       "<table border=\"1\" class=\"dataframe\">\n",
       "  <thead>\n",
       "    <tr style=\"text-align: right;\">\n",
       "      <th></th>\n",
       "      <th>date</th>\n",
       "      <th>coronavirus</th>\n",
       "      <th>Country</th>\n",
       "    </tr>\n",
       "  </thead>\n",
       "  <tbody>\n",
       "    <tr>\n",
       "      <th>0</th>\n",
       "      <td>2019-12-31</td>\n",
       "      <td>0</td>\n",
       "      <td>Australia</td>\n",
       "    </tr>\n",
       "    <tr>\n",
       "      <th>1</th>\n",
       "      <td>2020-01-01</td>\n",
       "      <td>0</td>\n",
       "      <td>Australia</td>\n",
       "    </tr>\n",
       "    <tr>\n",
       "      <th>2</th>\n",
       "      <td>2020-01-02</td>\n",
       "      <td>0</td>\n",
       "      <td>Australia</td>\n",
       "    </tr>\n",
       "    <tr>\n",
       "      <th>3</th>\n",
       "      <td>2020-01-03</td>\n",
       "      <td>0</td>\n",
       "      <td>Australia</td>\n",
       "    </tr>\n",
       "    <tr>\n",
       "      <th>4</th>\n",
       "      <td>2020-01-04</td>\n",
       "      <td>0</td>\n",
       "      <td>Australia</td>\n",
       "    </tr>\n",
       "  </tbody>\n",
       "</table>\n",
       "</div>"
      ],
      "text/plain": [
       "        date  coronavirus    Country\n",
       "0 2019-12-31            0  Australia\n",
       "1 2020-01-01            0  Australia\n",
       "2 2020-01-02            0  Australia\n",
       "3 2020-01-03            0  Australia\n",
       "4 2020-01-04            0  Australia"
      ]
     },
     "execution_count": 4,
     "metadata": {},
     "output_type": "execute_result"
    }
   ],
   "source": [
    "interest.head()"
   ]
  },
  {
   "cell_type": "code",
   "execution_count": 5,
   "metadata": {},
   "outputs": [
    {
     "data": {
      "text/html": [
       "<div>\n",
       "<style scoped>\n",
       "    .dataframe tbody tr th:only-of-type {\n",
       "        vertical-align: middle;\n",
       "    }\n",
       "\n",
       "    .dataframe tbody tr th {\n",
       "        vertical-align: top;\n",
       "    }\n",
       "\n",
       "    .dataframe thead th {\n",
       "        text-align: right;\n",
       "    }\n",
       "</style>\n",
       "<table border=\"1\" class=\"dataframe\">\n",
       "  <thead>\n",
       "    <tr style=\"text-align: right;\">\n",
       "      <th></th>\n",
       "      <th>date</th>\n",
       "      <th>country_code</th>\n",
       "      <th>0</th>\n",
       "    </tr>\n",
       "  </thead>\n",
       "  <tbody>\n",
       "    <tr>\n",
       "      <th>0</th>\n",
       "      <td>2020-03-26</td>\n",
       "      <td>AU</td>\n",
       "      <td>{0: '20K+', 1: '20K+', 2: '10K+', 3: '10K+', 4...</td>\n",
       "    </tr>\n",
       "    <tr>\n",
       "      <th>1</th>\n",
       "      <td>2020-03-26</td>\n",
       "      <td>GB</td>\n",
       "      <td>{0: '500K+', 1: '500K+', 2: '500K+', 3: '200K+...</td>\n",
       "    </tr>\n",
       "    <tr>\n",
       "      <th>2</th>\n",
       "      <td>2020-03-26</td>\n",
       "      <td>IE</td>\n",
       "      <td>{0: '20K+', 1: '20K+', 2: '10K+', 3: '5K+', 4:...</td>\n",
       "    </tr>\n",
       "    <tr>\n",
       "      <th>3</th>\n",
       "      <td>2020-03-26</td>\n",
       "      <td>NZ</td>\n",
       "      <td>{0: '20K+', 1: '10K+', 2: '5K+', 3: '5K+', 4: ...</td>\n",
       "    </tr>\n",
       "    <tr>\n",
       "      <th>4</th>\n",
       "      <td>2020-03-26</td>\n",
       "      <td>US</td>\n",
       "      <td>{0: '1M+', 1: '200K+', 2: '200K+', 3: '200K+',...</td>\n",
       "    </tr>\n",
       "  </tbody>\n",
       "</table>\n",
       "</div>"
      ],
      "text/plain": [
       "        date country_code                                                  0\n",
       "0 2020-03-26           AU  {0: '20K+', 1: '20K+', 2: '10K+', 3: '10K+', 4...\n",
       "1 2020-03-26           GB  {0: '500K+', 1: '500K+', 2: '500K+', 3: '200K+...\n",
       "2 2020-03-26           IE  {0: '20K+', 1: '20K+', 2: '10K+', 3: '5K+', 4:...\n",
       "3 2020-03-26           NZ  {0: '20K+', 1: '10K+', 2: '5K+', 3: '5K+', 4: ...\n",
       "4 2020-03-26           US  {0: '1M+', 1: '200K+', 2: '200K+', 3: '200K+',..."
      ]
     },
     "execution_count": 5,
     "metadata": {},
     "output_type": "execute_result"
    }
   ],
   "source": [
    "trends_traffic.head()"
   ]
  },
  {
   "cell_type": "code",
   "execution_count": 6,
   "metadata": {},
   "outputs": [
    {
     "data": {
      "text/html": [
       "<div>\n",
       "<style scoped>\n",
       "    .dataframe tbody tr th:only-of-type {\n",
       "        vertical-align: middle;\n",
       "    }\n",
       "\n",
       "    .dataframe tbody tr th {\n",
       "        vertical-align: top;\n",
       "    }\n",
       "\n",
       "    .dataframe thead th {\n",
       "        text-align: right;\n",
       "    }\n",
       "</style>\n",
       "<table border=\"1\" class=\"dataframe\">\n",
       "  <thead>\n",
       "    <tr style=\"text-align: right;\">\n",
       "      <th></th>\n",
       "      <th>date</th>\n",
       "      <th>country_code</th>\n",
       "      <th>0</th>\n",
       "    </tr>\n",
       "  </thead>\n",
       "  <tbody>\n",
       "    <tr>\n",
       "      <th>0</th>\n",
       "      <td>2020-03-26</td>\n",
       "      <td>AU</td>\n",
       "      <td>{0: 'Powerball tonight', 1: 'Powerball winner'...</td>\n",
       "    </tr>\n",
       "    <tr>\n",
       "      <th>1</th>\n",
       "      <td>2020-03-26</td>\n",
       "      <td>GB</td>\n",
       "      <td>{0: 'Chester Zoo', 1: 'Until Tomorrow', 2: 'Ri...</td>\n",
       "    </tr>\n",
       "    <tr>\n",
       "      <th>2</th>\n",
       "      <td>2020-03-26</td>\n",
       "      <td>IE</td>\n",
       "      <td>{0: 'Bugzy Malone', 1: 'Mark Blum', 2: 'Pentat...</td>\n",
       "    </tr>\n",
       "    <tr>\n",
       "      <th>3</th>\n",
       "      <td>2020-03-26</td>\n",
       "      <td>NZ</td>\n",
       "      <td>{0: 'Prince Charles', 1: 'Until Tomorrow', 2: ...</td>\n",
       "    </tr>\n",
       "    <tr>\n",
       "      <th>4</th>\n",
       "      <td>2020-03-26</td>\n",
       "      <td>US</td>\n",
       "      <td>{0: 'Mark Blum', 1: 'Carole Baskin', 2: 'Lion'...</td>\n",
       "    </tr>\n",
       "  </tbody>\n",
       "</table>\n",
       "</div>"
      ],
      "text/plain": [
       "        date country_code                                                  0\n",
       "0 2020-03-26           AU  {0: 'Powerball tonight', 1: 'Powerball winner'...\n",
       "1 2020-03-26           GB  {0: 'Chester Zoo', 1: 'Until Tomorrow', 2: 'Ri...\n",
       "2 2020-03-26           IE  {0: 'Bugzy Malone', 1: 'Mark Blum', 2: 'Pentat...\n",
       "3 2020-03-26           NZ  {0: 'Prince Charles', 1: 'Until Tomorrow', 2: ...\n",
       "4 2020-03-26           US  {0: 'Mark Blum', 1: 'Carole Baskin', 2: 'Lion'..."
      ]
     },
     "execution_count": 6,
     "metadata": {},
     "output_type": "execute_result"
    }
   ],
   "source": [
    "trends_title.head()"
   ]
  },
  {
   "cell_type": "code",
   "execution_count": 7,
   "metadata": {},
   "outputs": [
    {
     "data": {
      "text/html": [
       "<div>\n",
       "<style scoped>\n",
       "    .dataframe tbody tr th:only-of-type {\n",
       "        vertical-align: middle;\n",
       "    }\n",
       "\n",
       "    .dataframe tbody tr th {\n",
       "        vertical-align: top;\n",
       "    }\n",
       "\n",
       "    .dataframe thead th {\n",
       "        text-align: right;\n",
       "    }\n",
       "</style>\n",
       "<table border=\"1\" class=\"dataframe\">\n",
       "  <thead>\n",
       "    <tr style=\"text-align: right;\">\n",
       "      <th></th>\n",
       "      <th>date</th>\n",
       "      <th>coronavirus</th>\n",
       "      <th>Country</th>\n",
       "      <th>related_queries</th>\n",
       "    </tr>\n",
       "  </thead>\n",
       "  <tbody>\n",
       "    <tr>\n",
       "      <th>82</th>\n",
       "      <td>2020-03-22</td>\n",
       "      <td>100</td>\n",
       "      <td>Australia</td>\n",
       "      <td>{0: 'nsw lockdown coronavirus', 1: 'access sup...</td>\n",
       "    </tr>\n",
       "    <tr>\n",
       "      <th>182</th>\n",
       "      <td>2020-03-12</td>\n",
       "      <td>100</td>\n",
       "      <td>Canada</td>\n",
       "      <td>{0: 'tom hanks coronavirus', 1: 'sophie trudea...</td>\n",
       "    </tr>\n",
       "    <tr>\n",
       "      <th>183</th>\n",
       "      <td>2020-03-13</td>\n",
       "      <td>99</td>\n",
       "      <td>Canada</td>\n",
       "      <td>{0: 'lcbo closing coronavirus', 1: 'trudeau wi...</td>\n",
       "    </tr>\n",
       "    <tr>\n",
       "      <th>292</th>\n",
       "      <td>2020-03-12</td>\n",
       "      <td>100</td>\n",
       "      <td>Ireland</td>\n",
       "      <td>{0: 'tom hanks coronavirus', 1: 'leo varadkar ...</td>\n",
       "    </tr>\n",
       "    <tr>\n",
       "      <th>293</th>\n",
       "      <td>2020-03-13</td>\n",
       "      <td>90</td>\n",
       "      <td>Ireland</td>\n",
       "      <td>{0: 'coronavirus memes', 1: 'coronavirus death...</td>\n",
       "    </tr>\n",
       "  </tbody>\n",
       "</table>\n",
       "</div>"
      ],
      "text/plain": [
       "          date  coronavirus    Country  \\\n",
       "82  2020-03-22          100  Australia   \n",
       "182 2020-03-12          100     Canada   \n",
       "183 2020-03-13           99     Canada   \n",
       "292 2020-03-12          100    Ireland   \n",
       "293 2020-03-13           90    Ireland   \n",
       "\n",
       "                                       related_queries  \n",
       "82   {0: 'nsw lockdown coronavirus', 1: 'access sup...  \n",
       "182  {0: 'tom hanks coronavirus', 1: 'sophie trudea...  \n",
       "183  {0: 'lcbo closing coronavirus', 1: 'trudeau wi...  \n",
       "292  {0: 'tom hanks coronavirus', 1: 'leo varadkar ...  \n",
       "293  {0: 'coronavirus memes', 1: 'coronavirus death...  "
      ]
     },
     "execution_count": 7,
     "metadata": {},
     "output_type": "execute_result"
    }
   ],
   "source": [
    "related_queries.head()"
   ]
  },
  {
   "cell_type": "code",
   "execution_count": 14,
   "metadata": {},
   "outputs": [
    {
     "data": {
      "text/plain": [
       "\"{0: 'nsw lockdown coronavirus', 1: 'access super coronavirus', 2: 'coronavirus supplements', 3: 'what are the symptoms of coronavirus', 4: 'coronavirus cases worldwide'}\""
      ]
     },
     "execution_count": 14,
     "metadata": {},
     "output_type": "execute_result"
    }
   ],
   "source": [
    "related_queries.related_queries[82]"
   ]
  },
  {
   "cell_type": "code",
   "execution_count": 11,
   "metadata": {},
   "outputs": [
    {
     "data": {
      "text/plain": [
       "\"{0: 'Powerball tonight', 1: 'Powerball winner', 2: 'Qld school closures', 3: 'New Zealand news', 4: 'Stonnington', 5: 'Stage 3 lockdown Victoria', 6: 'Bugzy Malone', 7: 'Floyd Cardoz', 8: 'Qld schools', 9: 'Fight club', 10: 'Prince Harry', 11: 'Mark Zahra', 12: 'Smiggle', 13: 'Until tomorrow', 14: 'Hairdressers', 15: 'Hairdresser', 16: 'The post', 17: 'Stimulus payment', 18: 'SIA', 19: 'Iceland'}\""
      ]
     },
     "execution_count": 11,
     "metadata": {},
     "output_type": "execute_result"
    }
   ],
   "source": [
    "trends_title['0'][0]"
   ]
  },
  {
   "cell_type": "code",
   "execution_count": 17,
   "metadata": {},
   "outputs": [
    {
     "data": {
      "text/plain": [
       "date            datetime64[ns]\n",
       "country_code            string\n",
       "0                       string\n",
       "dtype: object"
      ]
     },
     "execution_count": 17,
     "metadata": {},
     "output_type": "execute_result"
    }
   ],
   "source": [
    "trends_title=trends_title.convert_dtypes()\n",
    "trends_title.dtypes"
   ]
  },
  {
   "cell_type": "code",
   "execution_count": null,
   "metadata": {},
   "outputs": [],
   "source": [
    "# filtering the ecdc dataframe with the restricted countries for our project\n",
    "\n",
    "countries = interest.Country.unique()\n",
    "\n",
    "final_df = ecdc.loc[ecdc['countriesAndTerritories'].isin(countries)]\n",
    "\n",
    "print(\"final_df shape:\",final_df.shape)\n",
    "final_df.head()"
   ]
  },
  {
   "cell_type": "code",
   "execution_count": null,
   "metadata": {},
   "outputs": [],
   "source": [
    "# cleaning final_df columns\n",
    "\n",
    "final_df.rename(columns={'dateRep':'date','countriesAndTerritories':'country','geoId':'country_code'},inplace=True)\n"
   ]
  },
  {
   "cell_type": "code",
   "execution_count": null,
   "metadata": {},
   "outputs": [],
   "source": [
    "# cleaning the interest dataframe to make it matched with final when merging \n",
    "\n",
    "interest.rename(columns={'Country':'country'},inplace=True)"
   ]
  },
  {
   "cell_type": "code",
   "execution_count": null,
   "metadata": {},
   "outputs": [],
   "source": [
    "# cleaning the related_queries dataframe for merging\n",
    "\n",
    "related_queries.rename(columns={'Country':'country'},inplace=True)"
   ]
  },
  {
   "cell_type": "code",
   "execution_count": null,
   "metadata": {},
   "outputs": [],
   "source": [
    "# cleaning of dataframes for merging\n",
    "\n",
    "trends_traffic.rename(columns={'0':'trends_traffic'},inplace=True)\n",
    "trends_title.rename(columns={'0':'trends_title'},inplace=True)\n",
    "\n",
    "trends_title.head()"
   ]
  },
  {
   "cell_type": "code",
   "execution_count": null,
   "metadata": {},
   "outputs": [],
   "source": [
    "# Merging interest dataframe\n",
    "\n",
    "result = pd.merge(final_df, interest, how='left', on=['date','country'])\n",
    "result.head()"
   ]
  },
  {
   "cell_type": "code",
   "execution_count": null,
   "metadata": {},
   "outputs": [],
   "source": [
    "# Merging related_queries dataframe\n",
    "\n",
    "result_2 = pd.merge(result, related_queries, how='left', on=['date','country','coronavirus'])\n",
    "result_2.head()"
   ]
  },
  {
   "cell_type": "code",
   "execution_count": null,
   "metadata": {},
   "outputs": [],
   "source": [
    "# Merging trends_title dataframe\n",
    "\n",
    "result_3 = pd.merge(result_2, trends_title, how='left', on=['date','country_code'])\n",
    "result_3.head()"
   ]
  },
  {
   "cell_type": "code",
   "execution_count": null,
   "metadata": {},
   "outputs": [],
   "source": [
    "# Merging trends_traffic dataframe\n",
    "\n",
    "result_4 = pd.merge(result_3, trends_traffic, how='left', on=['date','country_code'])\n",
    "result_4.head()"
   ]
  },
  {
   "cell_type": "code",
   "execution_count": null,
   "metadata": {},
   "outputs": [],
   "source": [
    "result_4.isna().sum()"
   ]
  },
  {
   "cell_type": "code",
   "execution_count": null,
   "metadata": {},
   "outputs": [],
   "source": [
    "# saving the final result as csv \n",
    "\n",
    "result_4.to_csv('data/final_dataframe.csv', index=False)"
   ]
  },
  {
   "cell_type": "code",
   "execution_count": null,
   "metadata": {},
   "outputs": [],
   "source": []
  }
 ],
 "metadata": {
  "kernelspec": {
   "display_name": "Python 3",
   "language": "python",
   "name": "python3"
  },
  "language_info": {
   "codemirror_mode": {
    "name": "ipython",
    "version": 3
   },
   "file_extension": ".py",
   "mimetype": "text/x-python",
   "name": "python",
   "nbconvert_exporter": "python",
   "pygments_lexer": "ipython3",
   "version": "3.7.4"
  }
 },
 "nbformat": 4,
 "nbformat_minor": 2
}
